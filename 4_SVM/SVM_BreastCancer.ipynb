{
  "nbformat": 4,
  "nbformat_minor": 0,
  "metadata": {
    "kernelspec": {
      "display_name": "Python 3",
      "language": "python",
      "name": "python3"
    },
    "language_info": {
      "codemirror_mode": {
        "name": "ipython",
        "version": 3
      },
      "file_extension": ".py",
      "mimetype": "text/x-python",
      "name": "python",
      "nbconvert_exporter": "python",
      "pygments_lexer": "ipython3",
      "version": "3.7.1"
    },
    "colab": {
      "name": "SVM_BreastCancer.ipynb",
      "provenance": []
    }
  },
  "cells": [
    {
      "cell_type": "markdown",
      "metadata": {
        "id": "t497swbv9s_q",
        "colab_type": "text"
      },
      "source": [
        "# Support Vector Machine on Breast Cancer dataset\n",
        "SVM :\n",
        "\n",
        "A program to implement SVM classifier on UCI breast cancer dataset to perform the classification task.  The dataset is split into 70:30 as train and test dataset. \n",
        "\n",
        "       \n",
        "a. svm_models() : to implement SVM models with different kernels and bar plot the test accuracy.\n",
        "\n",
        "b. ploy_kernel_var_deg() : to implement SVM with polynomial kernel and plot the execution time w.r.t. the degree of the polynomial ranging from 1 to 3.\n",
        "\n",
        "c. custom_kernel() : to implement a custom kernel which is of the form K(X,Y)= k*XYT+θ, where k and θ, are constants.\n",
        "\n",
        "d. svm_custom_kernel() : to implement SVM classifier with the above defined custom kernel and report the test accuracy.  "
      ]
    },
    {
      "cell_type": "markdown",
      "metadata": {
        "id": "y2oHzxfh9veA",
        "colab_type": "text"
      },
      "source": [
        "## Importing Libraries"
      ]
    },
    {
      "cell_type": "code",
      "metadata": {
        "id": "EijXak3I96x6",
        "colab_type": "code",
        "colab": {}
      },
      "source": [
        "##################################################\n",
        "## Basic imports\n",
        "import numpy as np\n",
        "import matplotlib.pyplot as plt\n",
        "from sklearn import svm, datasets\n",
        "from sklearn.model_selection import train_test_split\n",
        "import seaborn as sns\n",
        "import time\n",
        "from sklearn.preprocessing import PolynomialFeatures\n",
        "###################################################"
      ],
      "execution_count": 0,
      "outputs": []
    },
    {
      "cell_type": "markdown",
      "metadata": {
        "id": "kgrd2OAG9-O7",
        "colab_type": "text"
      },
      "source": [
        "## Loading data"
      ]
    },
    {
      "cell_type": "code",
      "metadata": {
        "id": "HxDPlMYk-BTZ",
        "colab_type": "code",
        "colab": {}
      },
      "source": [
        "###################################################\n",
        "## the method loads breast cancer dataset and returns\n",
        "## the dataset and label as X,Y\n",
        "def load_data(): \n",
        "\tdata_set = datasets.load_breast_cancer()\n",
        "\tX=data_set.data\n",
        "\ty=data_set.target\n",
        "\treturn X,y\n",
        "###################################################"
      ],
      "execution_count": 0,
      "outputs": []
    },
    {
      "cell_type": "markdown",
      "metadata": {
        "id": "xaOjMW9U-MzL",
        "colab_type": "text"
      },
      "source": [
        "## SVM Classifier"
      ]
    },
    {
      "cell_type": "code",
      "metadata": {
        "id": "ItPzxqDB-e2x",
        "colab_type": "code",
        "colab": {}
      },
      "source": [
        "###################################################\n",
        "## this method takes train and test data and different \n",
        "## svm models and fit the train data into svm models and \n",
        "## do bar plot using sns.barplot() of different svm model \n",
        "## accuracy. You need to implement the model fitting and \n",
        "## bar plotting in this method.\n",
        "def svm_models(X_train, X_test, y_train, y_test,models):\n",
        "    accuracy=[]\n",
        "    models_list=[]\n",
        "    for i in range(0,len(models)):\n",
        "        clf=models[i].fit(X_train,y_train)\n",
        "        accuracy.append(round(clf.score(X_test,y_test),ndigits=3))\n",
        "        models_list.append(str(models[i].kernel))    \n",
        "    plt.bar(models_list,accuracy, align='center', alpha=0.5)\n",
        "    plt.xticks(models_list)\n",
        "    plt.ylabel('Accuracy')\n",
        "    plt.title('Accuracy of SVM with different kernels')\n",
        "    for index,data in enumerate(accuracy):\n",
        "        plt.text(x=index , y =data , s=f\"{data}\" , fontdict=dict(fontsize=8))\n",
        "    plt.show()\n",
        "    pass\n",
        "###################################################"
      ],
      "execution_count": 0,
      "outputs": []
    },
    {
      "cell_type": "markdown",
      "metadata": {
        "id": "4JQzCQ6f-Rte",
        "colab_type": "text"
      },
      "source": [
        "### Poly Kernel"
      ]
    },
    {
      "cell_type": "code",
      "metadata": {
        "id": "x3rXGRHy-jam",
        "colab_type": "code",
        "colab": {}
      },
      "source": [
        "###################################################\n",
        "## this method fits the dataset to a svm model with \n",
        "## polynomial kernel with degree varies from 1 to 3 \n",
        "## and plots the execution time wrt. degree of \n",
        "## polynomial, you can calculate the elapsed time \n",
        "## by time.time() method\n",
        "def ploy_kernel_var_deg(X_train, X_test, y_train, y_test):\n",
        "    ex_time=[]\n",
        "    degree_arr=[]\n",
        "    for degree in range(1,4):\n",
        "        start_time = time.time()\n",
        "        clf=svm.SVC(kernel='poly', degree = degree, gamma=1, coef0=1)\n",
        "        clf.fit(X_train,y_train)\n",
        "        ex_time.append(round(time.time()-start_time,ndigits=5))\n",
        "        degree_arr.append(degree)\n",
        "    ex_time=np.array(ex_time)\n",
        "    degree_arr=np.array(degree_arr)\n",
        "    plt.plot(degree_arr,ex_time)\n",
        "    plt.xticks(degree_arr)\n",
        "    plt.xlabel('Degree')\n",
        "    plt.ylabel('Time')\n",
        "    plt.title('Execution time for Polynomial kernels')\n",
        "    for index,data in enumerate(ex_time):\n",
        "        plt.text(x=index+1 , y =data -0.0007 , s=f\"{data}\" , fontdict=dict(fontsize=10))\n",
        "    plt.show()\n",
        "    pass\n",
        "###################################################"
      ],
      "execution_count": 0,
      "outputs": []
    },
    {
      "cell_type": "markdown",
      "metadata": {
        "id": "pqNlSzn9-lSL",
        "colab_type": "text"
      },
      "source": [
        "### Custom Kernel"
      ]
    },
    {
      "cell_type": "code",
      "metadata": {
        "id": "dFFMFNPV-nfo",
        "colab_type": "code",
        "colab": {}
      },
      "source": [
        "###################################################\n",
        "## this method implements a custom kernel technique \n",
        "## which is K(X,Y)=k*XY'+theta where k and theta are\n",
        "## constants. Since SVC supports custom kernel function\n",
        "## with only 2 parameters we return the custom kernel \n",
        "## function name from another method which takes k and\n",
        "## theta as input\n",
        "def custom_kernel(k,theta):\n",
        "    \n",
        "    def my_kernel(X, Y):\n",
        "        retval = (k*(np.dot(X,Y.T))+theta)\n",
        "        return retval \n",
        "        pass\n",
        "    return my_kernel\n",
        "    pass\n",
        "####################################################\n",
        "\n",
        "\n",
        "\n",
        "\n",
        "\n",
        "####################################################\n",
        "## this method uses the custom kernel and fit the \n",
        "## training data and reports accuracy on test data\n",
        "def svm_custom_kernel(X_train, X_test, y_train, y_test, model):\n",
        "    acc=[]\n",
        "    clf=model.fit(X_train, y_train)\n",
        "    acc.append(clf.score(X_test, y_test))\n",
        "    return(print(\"Test accuracy for custom kernel:\",acc)) \n",
        "    pass\n",
        "####################################################"
      ],
      "execution_count": 0,
      "outputs": []
    },
    {
      "cell_type": "markdown",
      "metadata": {
        "id": "ouA2qJko-sSk",
        "colab_type": "text"
      },
      "source": [
        "## Training and Testing"
      ]
    },
    {
      "cell_type": "code",
      "metadata": {
        "id": "yOt1SjFO9s_s",
        "colab_type": "code",
        "colab": {
          "base_uri": "https://localhost:8080/",
          "height": 576
        },
        "outputId": "6b6028de-8174-4f7f-e6e4-56dd4e393eed"
      },
      "source": [
        "####################################################\n",
        "## main method:\n",
        "def main():\n",
        "    X,y=load_data()\n",
        "    # Split dataset into training set and test set\n",
        "    X_train, X_test, y_train, y_test = train_test_split(X, y, test_size=0.3,random_state=109) # 70% training and 30% test\n",
        "    \n",
        "    train_mean=np.mean(X_train)\n",
        "    train_std=np.std(X_train)\n",
        "    test_mean=np.mean(X_test)\n",
        "    test_std=np.std(X_test)\n",
        "    X_train_norm=((X_train-train_mean)/train_std)\n",
        "    X_test_norm=((X_test-test_mean)/train_std)\n",
        "    C=1\n",
        "    models = (svm.SVC(kernel='linear', C=C),\n",
        "          \tsvm.SVC(kernel='rbf', gamma='auto', C=C),\n",
        "          \tsvm.SVC(kernel='poly', degree=2, gamma='auto', C=C))\n",
        "\n",
        "    svm_models(X_train_norm, X_test_norm, y_train, y_test,models)\n",
        "    \n",
        "    \n",
        "    ploy_kernel_var_deg(X_train_norm, X_test_norm, y_train, y_test)\n",
        "    \n",
        "    k=0.1\n",
        "    theta=0.1\n",
        "\n",
        "    model=svm.SVC(kernel=custom_kernel(k,theta))\n",
        "    svm_custom_kernel(X_train_norm, X_test_norm, y_train, y_test, model)\n",
        "#####################################################\t\n",
        "\n",
        "\n",
        "if __name__=='__main__':\n",
        "\tmain()"
      ],
      "execution_count": 6,
      "outputs": [
        {
          "output_type": "display_data",
          "data": {
            "image/png": "[encoded data removed]",
            "text/plain": [
              "<Figure size 432x288 with 1 Axes>"
            ]
          },
          "metadata": {
            "tags": []
          }
        },
        {
          "output_type": "display_data",
          "data": {
            "image/png": "[encoded data removed]",
            "text/plain": [
              "<Figure size 432x288 with 1 Axes>"
            ]
          },
          "metadata": {
            "tags": []
          }
        },
        {
          "output_type": "stream",
          "text": [
            "Test accuracy for custom kernel: [0.9473684210526315]\n"
          ],
          "name": "stdout"
        }
      ]
    },
    {
      "cell_type": "markdown",
      "metadata": {
        "id": "a_aCogaR9s_x",
        "colab_type": "text"
      },
      "source": [
        "# "
      ]
    }
  ]
}