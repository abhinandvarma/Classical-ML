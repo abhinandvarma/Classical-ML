{
  "nbformat": 4,
  "nbformat_minor": 0,
  "metadata": {
    "kernelspec": {
      "display_name": "Python 3",
      "language": "python",
      "name": "python3"
    },
    "language_info": {
      "codemirror_mode": {
        "name": "ipython",
        "version": 3
      },
      "file_extension": ".py",
      "mimetype": "text/x-python",
      "name": "python",
      "nbconvert_exporter": "python",
      "pygments_lexer": "ipython3",
      "version": "3.7.1"
    },
    "colab": {
      "name": "KNN.ipynb",
      "provenance": []
    }
  },
  "cells": [
    {
      "cell_type": "markdown",
      "metadata": {
        "id": "GIqdaAcw1V9F",
        "colab_type": "text"
      },
      "source": [
        "# K - Nearest Neighbors \n",
        "\n",
        "A program to use a K-nearest neighbor to predict class labels of test data. Euclidean distance is used as the distance metric. (K=5). The learned classifier is tested on test instances with unknown class labels, and the predicted class labels for the test instances is printed as output."
      ]
    },
    {
      "cell_type": "markdown",
      "metadata": {
        "id": "M8veRnT71nHQ",
        "colab_type": "text"
      },
      "source": [
        "## Importing Libraries"
      ]
    },
    {
      "cell_type": "code",
      "metadata": {
        "id": "PmgNkVqn0voB",
        "colab_type": "code",
        "colab": {}
      },
      "source": [
        "#Importing required Libraries\n",
        "import numpy as np\n",
        "import copy\n",
        "import pandas as pd"
      ],
      "execution_count": 0,
      "outputs": []
    },
    {
      "cell_type": "markdown",
      "metadata": {
        "id": "FtJe3Ev11qbz",
        "colab_type": "text"
      },
      "source": [
        "## Loading data"
      ]
    },
    {
      "cell_type": "code",
      "metadata": {
        "id": "GGYAqL7R0voF",
        "colab_type": "code",
        "colab": {}
      },
      "source": [
        "#Loading Data\n",
        "f= open(\"data4.csv\")\n",
        "l= open(\"test4.csv\")\n",
        "fl=f.readlines()\n",
        "ll=l.readlines()\n",
        "#Formatting data\n",
        "data3=np.array(fl)\n",
        "test3=np.array(ll)\n",
        "data = np.array([x.split(',') for x in data3], dtype=np.int)\n",
        "test = np.array([x.split(',') for x in test3], dtype=np.int)"
      ],
      "execution_count": 0,
      "outputs": []
    },
    {
      "cell_type": "code",
      "metadata": {
        "id": "Ss3j9Ffe0voH",
        "colab_type": "code",
        "colab": {},
        "outputId": "891c5eef-7241-4d8f-ed5b-c750079deb6f"
      },
      "source": [
        "data"
      ],
      "execution_count": 0,
      "outputs": [
        {
          "output_type": "execute_result",
          "data": {
            "text/plain": [
              "array([[1, 1, 1, 1, 1, 1, 0, 1, 1],\n",
              "       [1, 1, 1, 1, 1, 1, 0, 0, 1],\n",
              "       [1, 1, 1, 1, 1, 1, 1, 1, 0],\n",
              "       [1, 1, 1, 1, 1, 0, 0, 1, 1],\n",
              "       [1, 1, 1, 1, 1, 0, 0, 0, 1],\n",
              "       [1, 1, 1, 0, 1, 1, 0, 1, 1],\n",
              "       [1, 1, 0, 1, 1, 1, 0, 1, 0],\n",
              "       [1, 1, 1, 0, 1, 1, 0, 0, 1],\n",
              "       [1, 1, 1, 0, 1, 0, 0, 1, 1],\n",
              "       [1, 1, 1, 0, 1, 0, 0, 0, 1],\n",
              "       [0, 1, 1, 1, 1, 1, 0, 1, 1],\n",
              "       [0, 1, 1, 1, 1, 1, 0, 0, 1],\n",
              "       [1, 0, 1, 1, 1, 1, 0, 1, 0],\n",
              "       [0, 1, 1, 1, 1, 0, 0, 1, 1],\n",
              "       [1, 1, 0, 1, 0, 1, 0, 1, 0],\n",
              "       [1, 0, 0, 1, 1, 1, 0, 1, 0],\n",
              "       [1, 0, 0, 1, 0, 1, 1, 1, 0],\n",
              "       [0, 1, 1, 1, 1, 0, 0, 0, 1],\n",
              "       [1, 0, 1, 1, 1, 1, 1, 1, 0],\n",
              "       [0, 1, 1, 0, 1, 1, 0, 1, 1]])"
            ]
          },
          "metadata": {
            "tags": []
          },
          "execution_count": 3
        }
      ]
    },
    {
      "cell_type": "code",
      "metadata": {
        "id": "D-veayTU0voK",
        "colab_type": "code",
        "colab": {},
        "outputId": "791ab23e-438b-410e-a2b1-c8b6603b63c3"
      },
      "source": [
        "test"
      ],
      "execution_count": 0,
      "outputs": [
        {
          "output_type": "execute_result",
          "data": {
            "text/plain": [
              "array([[0, 1, 1, 1, 1, 1, 1, 1],\n",
              "       [1, 0, 0, 0, 0, 0, 0, 0],\n",
              "       [0, 1, 1, 0, 1, 0, 0, 0],\n",
              "       [0, 1, 1, 1, 1, 0, 0, 0]])"
            ]
          },
          "metadata": {
            "tags": []
          },
          "execution_count": 4
        }
      ]
    },
    {
      "cell_type": "markdown",
      "metadata": {
        "id": "xgb81xI71vhw",
        "colab_type": "text"
      },
      "source": [
        "### Data Summary"
      ]
    },
    {
      "cell_type": "code",
      "metadata": {
        "id": "eOB0x95C0voN",
        "colab_type": "code",
        "colab": {},
        "outputId": "814800dd-86b7-41cb-83a4-514c56aed580"
      },
      "source": [
        "Number_Features=len(data[0])-1\n",
        "\n",
        "Classes=list((np.unique(data[0:20,-1])))\n",
        "    \n",
        "Number_Classes=len(Classes)\n",
        "\n",
        "print(\"Number of Training instances:\",len(data))\n",
        "print(\"Number of Test instances:\",len(test))\n",
        "\n",
        "print(\"Number of Features : \",Number_Features,\"Number of Classes: \",Number_Classes)\n",
        "\n",
        "print(\"Classes:\",Classes)"
      ],
      "execution_count": 0,
      "outputs": [
        {
          "output_type": "stream",
          "text": [
            "Number of Training instances: 20\n",
            "Number of Test instances: 4\n",
            "Number of Features :  8 Number of Classes:  2\n",
            "Classes: [0, 1]\n"
          ],
          "name": "stdout"
        }
      ]
    },
    {
      "cell_type": "markdown",
      "metadata": {
        "id": "S_I4w9-F1zNH",
        "colab_type": "text"
      },
      "source": [
        "## Data preperation"
      ]
    },
    {
      "cell_type": "code",
      "metadata": {
        "id": "16SeOuIF0voP",
        "colab_type": "code",
        "colab": {}
      },
      "source": [
        "indices1=np.where((data[:,Number_Features]==0))\n",
        "class1=(data[indices1])\n",
        "indices2=np.where((data[:,Number_Features]==1))\n",
        "class2=(data[indices2])\n",
        "grouped_data=np.concatenate((class1,class2))"
      ],
      "execution_count": 0,
      "outputs": []
    },
    {
      "cell_type": "code",
      "metadata": {
        "id": "nqADsrAN0voS",
        "colab_type": "code",
        "colab": {},
        "outputId": "3d00a3b1-d1bf-4dea-9ec8-6530f4646b87"
      },
      "source": [
        "grouped_data"
      ],
      "execution_count": 0,
      "outputs": [
        {
          "output_type": "execute_result",
          "data": {
            "text/plain": [
              "array([[1, 1, 1, 1, 1, 1, 1, 1, 0],\n",
              "       [1, 1, 0, 1, 1, 1, 0, 1, 0],\n",
              "       [1, 0, 1, 1, 1, 1, 0, 1, 0],\n",
              "       [1, 1, 0, 1, 0, 1, 0, 1, 0],\n",
              "       [1, 0, 0, 1, 1, 1, 0, 1, 0],\n",
              "       [1, 0, 0, 1, 0, 1, 1, 1, 0],\n",
              "       [1, 0, 1, 1, 1, 1, 1, 1, 0],\n",
              "       [1, 1, 1, 1, 1, 1, 0, 1, 1],\n",
              "       [1, 1, 1, 1, 1, 1, 0, 0, 1],\n",
              "       [1, 1, 1, 1, 1, 0, 0, 1, 1],\n",
              "       [1, 1, 1, 1, 1, 0, 0, 0, 1],\n",
              "       [1, 1, 1, 0, 1, 1, 0, 1, 1],\n",
              "       [1, 1, 1, 0, 1, 1, 0, 0, 1],\n",
              "       [1, 1, 1, 0, 1, 0, 0, 1, 1],\n",
              "       [1, 1, 1, 0, 1, 0, 0, 0, 1],\n",
              "       [0, 1, 1, 1, 1, 1, 0, 1, 1],\n",
              "       [0, 1, 1, 1, 1, 1, 0, 0, 1],\n",
              "       [0, 1, 1, 1, 1, 0, 0, 1, 1],\n",
              "       [0, 1, 1, 1, 1, 0, 0, 0, 1],\n",
              "       [0, 1, 1, 0, 1, 1, 0, 1, 1]])"
            ]
          },
          "metadata": {
            "tags": []
          },
          "execution_count": 7
        }
      ]
    },
    {
      "cell_type": "code",
      "metadata": {
        "id": "ctAa4Epl0voU",
        "colab_type": "code",
        "colab": {},
        "outputId": "313ccb97-09d9-4e15-9c90-03df1d4f7dbe"
      },
      "source": [
        "Train_data_grouped=pd.DataFrame(grouped_data,index=None,columns=None,dtype=int)\n",
        "Test_data=pd.DataFrame(test,index=None,columns=None,dtype=int)\n",
        "Train_data_grouped"
      ],
      "execution_count": 0,
      "outputs": [
        {
          "output_type": "execute_result",
          "data": {
            "text/html": [
              "<div>\n",
              "<style scoped>\n",
              "    .dataframe tbody tr th:only-of-type {\n",
              "        vertical-align: middle;\n",
              "    }\n",
              "\n",
              "    .dataframe tbody tr th {\n",
              "        vertical-align: top;\n",
              "    }\n",
              "\n",
              "    .dataframe thead th {\n",
              "        text-align: right;\n",
              "    }\n",
              "</style>\n",
              "<table border=\"1\" class=\"dataframe\">\n",
              "  <thead>\n",
              "    <tr style=\"text-align: right;\">\n",
              "      <th></th>\n",
              "      <th>0</th>\n",
              "      <th>1</th>\n",
              "      <th>2</th>\n",
              "      <th>3</th>\n",
              "      <th>4</th>\n",
              "      <th>5</th>\n",
              "      <th>6</th>\n",
              "      <th>7</th>\n",
              "      <th>8</th>\n",
              "    </tr>\n",
              "  </thead>\n",
              "  <tbody>\n",
              "    <tr>\n",
              "      <th>0</th>\n",
              "      <td>1</td>\n",
              "      <td>1</td>\n",
              "      <td>1</td>\n",
              "      <td>1</td>\n",
              "      <td>1</td>\n",
              "      <td>1</td>\n",
              "      <td>1</td>\n",
              "      <td>1</td>\n",
              "      <td>0</td>\n",
              "    </tr>\n",
              "    <tr>\n",
              "      <th>1</th>\n",
              "      <td>1</td>\n",
              "      <td>1</td>\n",
              "      <td>0</td>\n",
              "      <td>1</td>\n",
              "      <td>1</td>\n",
              "      <td>1</td>\n",
              "      <td>0</td>\n",
              "      <td>1</td>\n",
              "      <td>0</td>\n",
              "    </tr>\n",
              "    <tr>\n",
              "      <th>2</th>\n",
              "      <td>1</td>\n",
              "      <td>0</td>\n",
              "      <td>1</td>\n",
              "      <td>1</td>\n",
              "      <td>1</td>\n",
              "      <td>1</td>\n",
              "      <td>0</td>\n",
              "      <td>1</td>\n",
              "      <td>0</td>\n",
              "    </tr>\n",
              "    <tr>\n",
              "      <th>3</th>\n",
              "      <td>1</td>\n",
              "      <td>1</td>\n",
              "      <td>0</td>\n",
              "      <td>1</td>\n",
              "      <td>0</td>\n",
              "      <td>1</td>\n",
              "      <td>0</td>\n",
              "      <td>1</td>\n",
              "      <td>0</td>\n",
              "    </tr>\n",
              "    <tr>\n",
              "      <th>4</th>\n",
              "      <td>1</td>\n",
              "      <td>0</td>\n",
              "      <td>0</td>\n",
              "      <td>1</td>\n",
              "      <td>1</td>\n",
              "      <td>1</td>\n",
              "      <td>0</td>\n",
              "      <td>1</td>\n",
              "      <td>0</td>\n",
              "    </tr>\n",
              "    <tr>\n",
              "      <th>5</th>\n",
              "      <td>1</td>\n",
              "      <td>0</td>\n",
              "      <td>0</td>\n",
              "      <td>1</td>\n",
              "      <td>0</td>\n",
              "      <td>1</td>\n",
              "      <td>1</td>\n",
              "      <td>1</td>\n",
              "      <td>0</td>\n",
              "    </tr>\n",
              "    <tr>\n",
              "      <th>6</th>\n",
              "      <td>1</td>\n",
              "      <td>0</td>\n",
              "      <td>1</td>\n",
              "      <td>1</td>\n",
              "      <td>1</td>\n",
              "      <td>1</td>\n",
              "      <td>1</td>\n",
              "      <td>1</td>\n",
              "      <td>0</td>\n",
              "    </tr>\n",
              "    <tr>\n",
              "      <th>7</th>\n",
              "      <td>1</td>\n",
              "      <td>1</td>\n",
              "      <td>1</td>\n",
              "      <td>1</td>\n",
              "      <td>1</td>\n",
              "      <td>1</td>\n",
              "      <td>0</td>\n",
              "      <td>1</td>\n",
              "      <td>1</td>\n",
              "    </tr>\n",
              "    <tr>\n",
              "      <th>8</th>\n",
              "      <td>1</td>\n",
              "      <td>1</td>\n",
              "      <td>1</td>\n",
              "      <td>1</td>\n",
              "      <td>1</td>\n",
              "      <td>1</td>\n",
              "      <td>0</td>\n",
              "      <td>0</td>\n",
              "      <td>1</td>\n",
              "    </tr>\n",
              "    <tr>\n",
              "      <th>9</th>\n",
              "      <td>1</td>\n",
              "      <td>1</td>\n",
              "      <td>1</td>\n",
              "      <td>1</td>\n",
              "      <td>1</td>\n",
              "      <td>0</td>\n",
              "      <td>0</td>\n",
              "      <td>1</td>\n",
              "      <td>1</td>\n",
              "    </tr>\n",
              "    <tr>\n",
              "      <th>10</th>\n",
              "      <td>1</td>\n",
              "      <td>1</td>\n",
              "      <td>1</td>\n",
              "      <td>1</td>\n",
              "      <td>1</td>\n",
              "      <td>0</td>\n",
              "      <td>0</td>\n",
              "      <td>0</td>\n",
              "      <td>1</td>\n",
              "    </tr>\n",
              "    <tr>\n",
              "      <th>11</th>\n",
              "      <td>1</td>\n",
              "      <td>1</td>\n",
              "      <td>1</td>\n",
              "      <td>0</td>\n",
              "      <td>1</td>\n",
              "      <td>1</td>\n",
              "      <td>0</td>\n",
              "      <td>1</td>\n",
              "      <td>1</td>\n",
              "    </tr>\n",
              "    <tr>\n",
              "      <th>12</th>\n",
              "      <td>1</td>\n",
              "      <td>1</td>\n",
              "      <td>1</td>\n",
              "      <td>0</td>\n",
              "      <td>1</td>\n",
              "      <td>1</td>\n",
              "      <td>0</td>\n",
              "      <td>0</td>\n",
              "      <td>1</td>\n",
              "    </tr>\n",
              "    <tr>\n",
              "      <th>13</th>\n",
              "      <td>1</td>\n",
              "      <td>1</td>\n",
              "      <td>1</td>\n",
              "      <td>0</td>\n",
              "      <td>1</td>\n",
              "      <td>0</td>\n",
              "      <td>0</td>\n",
              "      <td>1</td>\n",
              "      <td>1</td>\n",
              "    </tr>\n",
              "    <tr>\n",
              "      <th>14</th>\n",
              "      <td>1</td>\n",
              "      <td>1</td>\n",
              "      <td>1</td>\n",
              "      <td>0</td>\n",
              "      <td>1</td>\n",
              "      <td>0</td>\n",
              "      <td>0</td>\n",
              "      <td>0</td>\n",
              "      <td>1</td>\n",
              "    </tr>\n",
              "    <tr>\n",
              "      <th>15</th>\n",
              "      <td>0</td>\n",
              "      <td>1</td>\n",
              "      <td>1</td>\n",
              "      <td>1</td>\n",
              "      <td>1</td>\n",
              "      <td>1</td>\n",
              "      <td>0</td>\n",
              "      <td>1</td>\n",
              "      <td>1</td>\n",
              "    </tr>\n",
              "    <tr>\n",
              "      <th>16</th>\n",
              "      <td>0</td>\n",
              "      <td>1</td>\n",
              "      <td>1</td>\n",
              "      <td>1</td>\n",
              "      <td>1</td>\n",
              "      <td>1</td>\n",
              "      <td>0</td>\n",
              "      <td>0</td>\n",
              "      <td>1</td>\n",
              "    </tr>\n",
              "    <tr>\n",
              "      <th>17</th>\n",
              "      <td>0</td>\n",
              "      <td>1</td>\n",
              "      <td>1</td>\n",
              "      <td>1</td>\n",
              "      <td>1</td>\n",
              "      <td>0</td>\n",
              "      <td>0</td>\n",
              "      <td>1</td>\n",
              "      <td>1</td>\n",
              "    </tr>\n",
              "    <tr>\n",
              "      <th>18</th>\n",
              "      <td>0</td>\n",
              "      <td>1</td>\n",
              "      <td>1</td>\n",
              "      <td>1</td>\n",
              "      <td>1</td>\n",
              "      <td>0</td>\n",
              "      <td>0</td>\n",
              "      <td>0</td>\n",
              "      <td>1</td>\n",
              "    </tr>\n",
              "    <tr>\n",
              "      <th>19</th>\n",
              "      <td>0</td>\n",
              "      <td>1</td>\n",
              "      <td>1</td>\n",
              "      <td>0</td>\n",
              "      <td>1</td>\n",
              "      <td>1</td>\n",
              "      <td>0</td>\n",
              "      <td>1</td>\n",
              "      <td>1</td>\n",
              "    </tr>\n",
              "  </tbody>\n",
              "</table>\n",
              "</div>"
            ],
            "text/plain": [
              "    0  1  2  3  4  5  6  7  8\n",
              "0   1  1  1  1  1  1  1  1  0\n",
              "1   1  1  0  1  1  1  0  1  0\n",
              "2   1  0  1  1  1  1  0  1  0\n",
              "3   1  1  0  1  0  1  0  1  0\n",
              "4   1  0  0  1  1  1  0  1  0\n",
              "5   1  0  0  1  0  1  1  1  0\n",
              "6   1  0  1  1  1  1  1  1  0\n",
              "7   1  1  1  1  1  1  0  1  1\n",
              "8   1  1  1  1  1  1  0  0  1\n",
              "9   1  1  1  1  1  0  0  1  1\n",
              "10  1  1  1  1  1  0  0  0  1\n",
              "11  1  1  1  0  1  1  0  1  1\n",
              "12  1  1  1  0  1  1  0  0  1\n",
              "13  1  1  1  0  1  0  0  1  1\n",
              "14  1  1  1  0  1  0  0  0  1\n",
              "15  0  1  1  1  1  1  0  1  1\n",
              "16  0  1  1  1  1  1  0  0  1\n",
              "17  0  1  1  1  1  0  0  1  1\n",
              "18  0  1  1  1  1  0  0  0  1\n",
              "19  0  1  1  0  1  1  0  1  1"
            ]
          },
          "metadata": {
            "tags": []
          },
          "execution_count": 8
        }
      ]
    },
    {
      "cell_type": "code",
      "metadata": {
        "id": "Rmsc4u0l0voW",
        "colab_type": "code",
        "colab": {}
      },
      "source": [
        "def split_features_classes(dataframe):\n",
        "    features = dataframe.iloc[:, :-1]\n",
        "    classes = dataframe.iloc[:, -1]\n",
        "    return features, classes"
      ],
      "execution_count": 0,
      "outputs": []
    },
    {
      "cell_type": "code",
      "metadata": {
        "id": "I3pEYtx70voX",
        "colab_type": "code",
        "colab": {}
      },
      "source": [
        "train_features, train_classes = split_features_classes(Train_data_grouped)"
      ],
      "execution_count": 0,
      "outputs": []
    },
    {
      "cell_type": "markdown",
      "metadata": {
        "id": "kb_usRQW13V-",
        "colab_type": "text"
      },
      "source": [
        "## KNN algorithm"
      ]
    },
    {
      "cell_type": "markdown",
      "metadata": {
        "id": "7ain1jfg1-C8",
        "colab_type": "text"
      },
      "source": [
        "### Euclidean metric"
      ]
    },
    {
      "cell_type": "code",
      "metadata": {
        "id": "42B29ly10voY",
        "colab_type": "code",
        "colab": {}
      },
      "source": [
        "import math\n",
        "\n",
        "def euclidean_distance(first_object, second_object):\n",
        "    distance = 0\n",
        "    Number_Features = len(first_object)\n",
        "    for f in range(Number_Features):\n",
        "        distance += pow((first_object[f] - second_object[f]), 2)\n",
        "    return math.sqrt(distance)"
      ],
      "execution_count": 0,
      "outputs": []
    },
    {
      "cell_type": "markdown",
      "metadata": {
        "id": "qbqV5Q1b2EC-",
        "colab_type": "text"
      },
      "source": [
        "### Training and Testing"
      ]
    },
    {
      "cell_type": "code",
      "metadata": {
        "id": "TE8S8CI_0voa",
        "colab_type": "code",
        "colab": {}
      },
      "source": [
        "import numpy as np\n",
        "\n",
        "def get_nearest_neighbours(train_features, focus_object, k):\n",
        "    distances = []\n",
        "    num_of_features = len(focus_object)\n",
        "    for train_object in train_features.values:\n",
        "        distance = euclidean_distance(train_object, focus_object)\n",
        "        distances.append(distance)\n",
        "    nearest=np.argsort(distances)\n",
        "    return nearest[:k]"
      ],
      "execution_count": 0,
      "outputs": []
    },
    {
      "cell_type": "code",
      "metadata": {
        "id": "aXpx9uqq0voc",
        "colab_type": "code",
        "colab": {}
      },
      "source": [
        "def get_majority_class(k_nearest_neighbours):\n",
        "    votes_class_0=0\n",
        "    votes_class_1=0\n",
        "    for neighbour in k_nearest_neighbours:\n",
        "        neighbour_class = train_classes.loc[neighbour]\n",
        "        if neighbour_class == Classes[0]:\n",
        "            votes_class_0 += 1\n",
        "        elif neighbour_class == Classes[1]:\n",
        "            votes_class_1 += 1\n",
        "    if votes_class_0>votes_class_1:\n",
        "        return 0\n",
        "    else:\n",
        "        return 1"
      ],
      "execution_count": 0,
      "outputs": []
    },
    {
      "cell_type": "code",
      "metadata": {
        "id": "mQjTi99H0vod",
        "colab_type": "code",
        "colab": {},
        "outputId": "ae2ef1a9-3bb7-46b5-a393-43a6e3d0d7dd"
      },
      "source": [
        "num_test_samples = len(Test_data)\n",
        "predicted_classes = []\n",
        "for i in range(num_test_samples):\n",
        "    test_object = Test_data.iloc[i]\n",
        "    k_nearest_neighbours = get_nearest_neighbours(train_features, test_object, 5)\n",
        "    predicted_class = get_majority_class(k_nearest_neighbours)\n",
        "    print(\"Nearest 5 neighbors to Test Case\",i,k_nearest_neighbours)\n",
        "    print(\"Predicted Class:\",predicted_class)\n",
        "    predicted_classes.append(predicted_class)\n",
        "print(predicted_classes)\n",
        "  "
      ],
      "execution_count": 0,
      "outputs": [
        {
          "output_type": "stream",
          "text": [
            "Nearest 5 neighbors to Test Case 0 [ 0 15 17 16  7]\n",
            "Predicted Class: 1\n",
            "Nearest 5 neighbors to Test Case 1 [14  3  4  5 10]\n",
            "Predicted Class: 0\n",
            "Nearest 5 neighbors to Test Case 2 [14 18 19 17 16]\n",
            "Predicted Class: 1\n",
            "Nearest 5 neighbors to Test Case 3 [18 17 16 10  9]\n",
            "Predicted Class: 1\n",
            "[1, 0, 1, 1]\n"
          ],
          "name": "stdout"
        }
      ]
    }
  ]
}