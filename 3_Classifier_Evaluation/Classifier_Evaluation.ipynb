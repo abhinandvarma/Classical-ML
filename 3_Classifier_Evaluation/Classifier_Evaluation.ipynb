{
  "nbformat": 4,
  "nbformat_minor": 0,
  "metadata": {
    "kernelspec": {
      "display_name": "Python 3",
      "language": "python",
      "name": "python3"
    },
    "language_info": {
      "codemirror_mode": {
        "name": "ipython",
        "version": 3
      },
      "file_extension": ".py",
      "mimetype": "text/x-python",
      "name": "python",
      "nbconvert_exporter": "python",
      "pygments_lexer": "ipython3",
      "version": "3.7.1"
    },
    "colab": {
      "name": "Classifier_Evaluation.ipynb",
      "provenance": []
    }
  },
  "cells": [
    {
      "cell_type": "markdown",
      "metadata": {
        "id": "xvhN55bF5Vwo",
        "colab_type": "text"
      },
      "source": [
        "# Classifier Evaluation : Decision Tree vs Naive Bayes\n",
        "\n",
        "\n",
        "A program to implement Decision Tree and Naive Bayes Classifier and perform a classification task. \n",
        "\n",
        "        A template to generate data : as: Ɗ(x,y) where x is a 2 dimensional input → x =[x1, x2] ~ U(-1,1) x U(-1,1) and y = sign (x12 + x22 - 0.5) where U denotes Uniform Distribution.\n",
        "I have generated an appropriate number of samples such that I was able to learn the classifier.\n",
        "For each of the above classifiers, I have performed k-fold cross validation and plotted the train and test accuracy (y-axis) with varying ‘k’ (1<=k<=10) (x-axis). "
      ]
    },
    {
      "cell_type": "markdown",
      "metadata": {
        "id": "NV7zmi2h5mqy",
        "colab_type": "text"
      },
      "source": [
        "## Importing Libraries"
      ]
    },
    {
      "cell_type": "code",
      "metadata": {
        "id": "qEDgP0c75mOg",
        "colab_type": "code",
        "colab": {}
      },
      "source": [
        "import numpy as np\n",
        "import matplotlib.pyplot as plt\n",
        "from sklearn.model_selection import StratifiedKFold\n",
        "from sklearn import tree\n",
        "from sklearn.model_selection import cross_validate\n",
        "from sklearn.naive_bayes import GaussianNB\n",
        "import warnings\n",
        "warnings.filterwarnings('ignore')\n",
        "#Do all the necessary imports here"
      ],
      "execution_count": 0,
      "outputs": []
    },
    {
      "cell_type": "markdown",
      "metadata": {
        "id": "w45qMBgW51LQ",
        "colab_type": "text"
      },
      "source": [
        "## Data generation"
      ]
    },
    {
      "cell_type": "code",
      "metadata": {
        "id": "9LyYgkHy56kb",
        "colab_type": "code",
        "colab": {}
      },
      "source": [
        "#This code generates random data from Uniform Distribution and assigns labels.\n",
        "#The data is a non-linear one with points inside a circle of fixed radius marked as -1 and outside as +1.\n",
        "\n",
        "def generate_data():\n",
        "\n",
        "\tnp.random.seed(123) #Set seed for reproducibility. Please do not change/remove this line.\n",
        "\tx = np.random.uniform(-1,1,(128,2)) #You may change the number of samples you wish to generate\n",
        "\ty=[]\n",
        "\tfor i in range(x.shape[0]):\n",
        "\t\ty.append(np.sign(x[i][0]**2 + x[i][1]**2 - 0.5)) #Forming labels\n",
        "\treturn x,y\n",
        "\n",
        "\n",
        "\n",
        "#We flip the labels of some data (here with 5% probability) to introduce some noise.\n",
        "def flip_labels(y):\n",
        "\n",
        "\tnum = int(0.05 * len(y)) #5% of data to be flipped\n",
        "\tnp.random.seed(123)\n",
        "\tchangeind = np.random.choice(len(y),num,replace=False) #Sampling without replacement\n",
        "\t#For example, np.random.choice(5,3) = ([0,2,3]); first argument is the limit till which we intend to pick up elements, second is the number of elements to be sampled\n",
        "\n",
        "\t#Creating a copy of the array to modify\n",
        "\tyc=np.copy(y) # yc=y is a bad practice since it points to the same location and changing y or yc would change the other which won't be desired always\n",
        "\t#Flip labels -1 --> 1 and 1 --> -1\n",
        "\tfor i in changeind:\n",
        "\t\tif yc[i]==-1.0:\n",
        "\t\t\tyc[i]=1.0\n",
        "\t\telse:\n",
        "\t\t\tyc[i]=-1.0\n",
        "\n",
        "\treturn yc"
      ],
      "execution_count": 0,
      "outputs": []
    },
    {
      "cell_type": "markdown",
      "metadata": {
        "id": "yDBrcGgi6IuF",
        "colab_type": "text"
      },
      "source": [
        "## Classifiers\n",
        "\n",
        "I will be using Decision Tree and Naive Bayes Classifiers to classify the above generated data.\n"
      ]
    },
    {
      "cell_type": "markdown",
      "metadata": {
        "id": "dm6HbKEL6hZj",
        "colab_type": "text"
      },
      "source": [
        "### Decision Tree"
      ]
    },
    {
      "cell_type": "code",
      "metadata": {
        "id": "ZbFF8beQ6j2D",
        "colab_type": "code",
        "colab": {}
      },
      "source": [
        "#Fill up the below function\n",
        "def train_test_dt(x,y):\n",
        "    samples=[]\n",
        "    acc_train=[]\n",
        "    acc_test=[]    \n",
        "    results=[]\n",
        "    \n",
        "    for k in range(2,11):\n",
        "        clf=tree.DecisionTreeClassifier()\n",
        "        results=(cross_validate(clf, x, y, cv=k, return_train_score=True))\n",
        "        acc_train.append(np.mean(results['train_score']))\n",
        "        acc_test.append(np.mean(results['test_score']))\n",
        "        samples.append(k)\n",
        "    \n",
        "    plt.plot(samples,acc_train,'bo-',label='Train Accuracy')\n",
        "    plt.plot(samples,acc_test,'ro-',label='Test Accuracy')\n",
        "    plt.xticks(fontsize=10)\n",
        "    plt.yticks(fontsize=10)\n",
        "    plt.xlabel('Number of folds',fontsize=15)\n",
        "    plt.ylabel('Mean Accuracy',fontsize=15)\n",
        "    plt.legend(fontsize=15)\n",
        "    plt.title('Decision Tree',fontsize=15)\n",
        "    axes = plt.gca()\n",
        "    axes.set_ylim([0.4,1])\n",
        "    plt.show()\n",
        "    warnings.filterwarnings('ignore')        \n",
        "    \n",
        "    \n",
        "\t# Perform a k-fold cross validation using Decision Tree\n",
        "\t#Plot train and test accuracy with varying k (1<=k<=10)\n",
        "    pass"
      ],
      "execution_count": 0,
      "outputs": []
    },
    {
      "cell_type": "markdown",
      "metadata": {
        "id": "vGfIzAh56ran",
        "colab_type": "text"
      },
      "source": [
        "### Naive Bayes"
      ]
    },
    {
      "cell_type": "code",
      "metadata": {
        "id": "DVnL5aRC5Vwr",
        "colab_type": "code",
        "colab": {}
      },
      "source": [
        "#Fill up the velow function\n",
        "def train_test_nb(x,y):\n",
        "    samples=[]\n",
        "    acc_train=[]\n",
        "    acc_test=[]    \n",
        "    \n",
        "    \n",
        "    for k in range(2,11):\n",
        "        clf=GaussianNB()\n",
        "        results=(cross_validate(clf, x, y, cv=k, return_train_score=True))\n",
        "        acc_train.append(np.mean(results['train_score']))\n",
        "        acc_test.append(np.mean(results['test_score']))\n",
        "        samples.append(k)\n",
        "    \n",
        "    plt.plot(samples,acc_train,'bo-',label='Train Accuracy')\n",
        "    plt.plot(samples,acc_test,'ro-',label='Test Accuracy')\n",
        "    plt.xticks(fontsize=10)\n",
        "    plt.yticks(fontsize=10)\n",
        "    plt.xlabel('Number of folds',fontsize=15)\n",
        "    plt.ylabel('Mean Accuracy',fontsize=15)\n",
        "    plt.legend(fontsize=15)\n",
        "    plt.title('Naive Bayes Classifier',fontsize=15)\n",
        "    axes = plt.gca()\n",
        "    axes.set_ylim([0.4,1])\n",
        "    plt.show()\n",
        "    warnings.filterwarnings('ignore')\n",
        "            \n",
        "\t# Perform a k-fold cross validation using Naive Bayes\n",
        "\t#Plot train and test accuracy with varying k (1<=k<=10)\n",
        "    pass"
      ],
      "execution_count": 0,
      "outputs": []
    },
    {
      "cell_type": "markdown",
      "metadata": {
        "id": "AXrXZGWF6zTE",
        "colab_type": "text"
      },
      "source": [
        "### Evaluation"
      ]
    },
    {
      "cell_type": "code",
      "metadata": {
        "id": "fgFCwOzB61EI",
        "colab_type": "code",
        "colab": {
          "base_uri": "https://localhost:8080/",
          "height": 587
        },
        "outputId": "58270c15-07ef-42df-ad7c-ac8b2aba2ebe"
      },
      "source": [
        "def main():\n",
        "\n",
        "\tx,y = generate_data() #Generate data\n",
        "\ty = flip_labels(y) #Flip labels\n",
        "\ty=np.asarray(y) #Change list to array\n",
        "\ttrain_test_dt(x,y)\n",
        "\ttrain_test_nb(x,y)\n",
        "    \n",
        "\n",
        "\n",
        "if __name__=='__main__':\n",
        "\tmain()"
      ],
      "execution_count": 5,
      "outputs": [
        {
          "output_type": "display_data",
          "data": {
            "image/png": "[encoded data removed]",
            "text/plain": [
              "<Figure size 432x288 with 1 Axes>"
            ]
          },
          "metadata": {
            "tags": []
          }
        },
        {
          "output_type": "display_data",
          "data": {
            "image/png": "[encoded data removed]",
            "text/plain": [
              "<Figure size 432x288 with 1 Axes>"
            ]
          },
          "metadata": {
            "tags": []
          }
        }
      ]
    }
  ]
}