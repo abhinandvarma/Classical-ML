{
  "nbformat": 4,
  "nbformat_minor": 0,
  "metadata": {
    "kernelspec": {
      "display_name": "Python 3",
      "language": "python",
      "name": "python3"
    },
    "language_info": {
      "codemirror_mode": {
        "name": "ipython",
        "version": 3
      },
      "file_extension": ".py",
      "mimetype": "text/x-python",
      "name": "python",
      "nbconvert_exporter": "python",
      "pygments_lexer": "ipython3",
      "version": "3.7.1"
    },
    "colab": {
      "name": "Naive_Bayes.ipynb",
      "provenance": []
    }
  },
  "cells": [
    {
      "cell_type": "markdown",
      "metadata": {
        "id": "yWMKLIas2WSP",
        "colab_type": "text"
      },
      "source": [
        "# Naive Bayes Classifier\n",
        "\n",
        "A program to learn a naïve Bayes classifier and used to predict class labels of test data. Laplacian smoothing with α = 1 has been implemented. The learned classifier is tested on test instances with unknown class labels, and the predicted class labels for the test instances is printed as output. "
      ]
    },
    {
      "cell_type": "markdown",
      "metadata": {
        "id": "Gt8XI6cr2jtu",
        "colab_type": "text"
      },
      "source": [
        "## Importing Libraries"
      ]
    },
    {
      "cell_type": "code",
      "metadata": {
        "id": "wqe-M5482WST",
        "colab_type": "code",
        "colab": {}
      },
      "source": [
        "#Importing required Libraries\n",
        "import numpy as np\n",
        "import copy"
      ],
      "execution_count": 0,
      "outputs": []
    },
    {
      "cell_type": "markdown",
      "metadata": {
        "id": "El0ael7K2oHs",
        "colab_type": "text"
      },
      "source": [
        "## Loading data"
      ]
    },
    {
      "cell_type": "code",
      "metadata": {
        "id": "O5jQnvoc2WSZ",
        "colab_type": "code",
        "colab": {}
      },
      "source": [
        "#Reading the data\n",
        "f= open(\"data3.csv\")\n",
        "l= open(\"test3.csv\")\n",
        "fl=f.readlines()\n",
        "ll=l.readlines()\n",
        "data3=np.array(fl)\n",
        "test3=np.array(ll)\n",
        "#Formatting the data\n",
        "data = np.array([x.split(',') for x in data3], dtype=np.int)\n",
        "test = np.array([x.split(',') for x in test3], dtype=np.int)"
      ],
      "execution_count": 0,
      "outputs": []
    },
    {
      "cell_type": "code",
      "metadata": {
        "id": "5wcEKucc2WSc",
        "colab_type": "code",
        "colab": {},
        "outputId": "b3cdccf1-d7e4-4b5d-c2ef-d1cfba08760f"
      },
      "source": [
        "data"
      ],
      "execution_count": 0,
      "outputs": [
        {
          "output_type": "execute_result",
          "data": {
            "text/plain": [
              "array([[1, 1, 1, 1, 1, 1, 0, 1, 1],\n",
              "       [1, 1, 1, 1, 1, 1, 0, 0, 1],\n",
              "       [1, 1, 1, 1, 1, 1, 1, 1, 0],\n",
              "       [1, 1, 1, 1, 1, 0, 0, 1, 1],\n",
              "       [1, 1, 1, 1, 1, 0, 0, 0, 1],\n",
              "       [1, 1, 1, 0, 1, 1, 0, 1, 1],\n",
              "       [1, 1, 0, 1, 1, 1, 0, 1, 0],\n",
              "       [1, 1, 1, 0, 1, 1, 0, 0, 1],\n",
              "       [1, 1, 1, 0, 1, 0, 0, 1, 1],\n",
              "       [1, 1, 1, 0, 1, 0, 0, 0, 1],\n",
              "       [0, 1, 1, 1, 1, 1, 0, 1, 1],\n",
              "       [0, 1, 1, 1, 1, 1, 0, 0, 1],\n",
              "       [1, 0, 1, 1, 1, 1, 0, 1, 0],\n",
              "       [0, 1, 1, 1, 1, 0, 0, 1, 1],\n",
              "       [1, 1, 0, 1, 0, 1, 0, 1, 0],\n",
              "       [1, 0, 0, 1, 1, 1, 0, 1, 0],\n",
              "       [1, 0, 0, 1, 0, 1, 1, 1, 0],\n",
              "       [0, 1, 1, 1, 1, 0, 0, 0, 1],\n",
              "       [1, 0, 1, 1, 1, 1, 1, 1, 0],\n",
              "       [0, 1, 1, 0, 1, 1, 0, 1, 1]])"
            ]
          },
          "metadata": {
            "tags": []
          },
          "execution_count": 3
        }
      ]
    },
    {
      "cell_type": "code",
      "metadata": {
        "id": "vIxSzXAv2WSg",
        "colab_type": "code",
        "colab": {},
        "outputId": "eda81f22-0554-406c-ed7a-4d060e464b42"
      },
      "source": [
        "test"
      ],
      "execution_count": 0,
      "outputs": [
        {
          "output_type": "execute_result",
          "data": {
            "text/plain": [
              "array([[0, 1, 1, 1, 1, 1, 1, 1],\n",
              "       [1, 0, 0, 0, 0, 0, 0, 0],\n",
              "       [0, 1, 1, 0, 1, 0, 0, 0],\n",
              "       [0, 1, 1, 1, 1, 0, 0, 0]])"
            ]
          },
          "metadata": {
            "tags": []
          },
          "execution_count": 4
        }
      ]
    },
    {
      "cell_type": "markdown",
      "metadata": {
        "id": "Hb2oWGjM2qws",
        "colab_type": "text"
      },
      "source": [
        "### Data Summary"
      ]
    },
    {
      "cell_type": "code",
      "metadata": {
        "id": "jvexb94S2WSi",
        "colab_type": "code",
        "colab": {},
        "outputId": "67accdac-ba69-4412-da45-e9f4d2769514"
      },
      "source": [
        "#Data Summary\n",
        "Number_Features=len(data[0])-1\n",
        "\n",
        "Classes=list((np.unique(data[0:20,-1])))\n",
        "    \n",
        "Number_Classes=len(Classes)\n",
        "\n",
        "print(\"Number of Training instances:\",len(data))\n",
        "print(\"Number of Test instances:\",len(test))\n",
        "\n",
        "print(\"Number of Features : \",Number_Features,\"Number of Classes: \",Number_Classes)\n",
        "\n",
        "print(\"Classes:\",Classes)"
      ],
      "execution_count": 0,
      "outputs": [
        {
          "output_type": "stream",
          "text": [
            "Number of Training instances: 20\n",
            "Number of Test instances: 4\n",
            "Number of Features :  8 Number of Classes:  2\n",
            "Classes: [0, 1]\n"
          ],
          "name": "stdout"
        }
      ]
    },
    {
      "cell_type": "markdown",
      "metadata": {
        "id": "I3kSA0Rm2tIy",
        "colab_type": "text"
      },
      "source": [
        "## Data preperation"
      ]
    },
    {
      "cell_type": "code",
      "metadata": {
        "id": "RnI9rJlf2WSk",
        "colab_type": "code",
        "colab": {}
      },
      "source": [
        "#Regrouping data by labels\n",
        "indices1=np.where((data[:,Number_Features]==0))\n",
        "class1=(data[indices1])\n",
        "indices2=np.where((data[:,Number_Features]==1))\n",
        "class2=(data[indices2])\n",
        "grouped_data=np.array((class1,class2))"
      ],
      "execution_count": 0,
      "outputs": []
    },
    {
      "cell_type": "code",
      "metadata": {
        "id": "IKnW-Dot2WSl",
        "colab_type": "code",
        "colab": {},
        "outputId": "13f0a495-50aa-4ddc-a80d-f82c3cf0c8f5"
      },
      "source": [
        "grouped_data"
      ],
      "execution_count": 0,
      "outputs": [
        {
          "output_type": "execute_result",
          "data": {
            "text/plain": [
              "array([array([[1, 1, 1, 1, 1, 1, 1, 1, 0],\n",
              "       [1, 1, 0, 1, 1, 1, 0, 1, 0],\n",
              "       [1, 0, 1, 1, 1, 1, 0, 1, 0],\n",
              "       [1, 1, 0, 1, 0, 1, 0, 1, 0],\n",
              "       [1, 0, 0, 1, 1, 1, 0, 1, 0],\n",
              "       [1, 0, 0, 1, 0, 1, 1, 1, 0],\n",
              "       [1, 0, 1, 1, 1, 1, 1, 1, 0]]),\n",
              "       array([[1, 1, 1, 1, 1, 1, 0, 1, 1],\n",
              "       [1, 1, 1, 1, 1, 1, 0, 0, 1],\n",
              "       [1, 1, 1, 1, 1, 0, 0, 1, 1],\n",
              "       [1, 1, 1, 1, 1, 0, 0, 0, 1],\n",
              "       [1, 1, 1, 0, 1, 1, 0, 1, 1],\n",
              "       [1, 1, 1, 0, 1, 1, 0, 0, 1],\n",
              "       [1, 1, 1, 0, 1, 0, 0, 1, 1],\n",
              "       [1, 1, 1, 0, 1, 0, 0, 0, 1],\n",
              "       [0, 1, 1, 1, 1, 1, 0, 1, 1],\n",
              "       [0, 1, 1, 1, 1, 1, 0, 0, 1],\n",
              "       [0, 1, 1, 1, 1, 0, 0, 1, 1],\n",
              "       [0, 1, 1, 1, 1, 0, 0, 0, 1],\n",
              "       [0, 1, 1, 0, 1, 1, 0, 1, 1]])], dtype=object)"
            ]
          },
          "metadata": {
            "tags": []
          },
          "execution_count": 7
        }
      ]
    },
    {
      "cell_type": "markdown",
      "metadata": {
        "id": "A428m_NM2wCk",
        "colab_type": "text"
      },
      "source": [
        "## Naive Bayes Classifier algorithm"
      ]
    },
    {
      "cell_type": "code",
      "metadata": {
        "id": "UIsKclwF2WSm",
        "colab_type": "code",
        "colab": {},
        "outputId": "6c328524-f8cf-4edc-a309-4adacf923a6e"
      },
      "source": [
        "#Naive Bayes Classifier\n",
        "\n",
        "Total_instances=(len(grouped_data[0])+len(grouped_data[1]))\n",
        "Prior_Probability_Class0=(len(grouped_data[0])/Total_instances)\n",
        "Prior_Probability_Class1=(len(grouped_data[1])/Total_instances)\n",
        "\n",
        "print(\"P(C0)=\",Prior_Probability_Class0)\n",
        "print(\"P(C1)=\",Prior_Probability_Class1)\n",
        "\n",
        "Pta=np.ones(Number_Features)\n",
        "Ptb=np.ones(Number_Features)\n",
        "Predicted_Classes=np.zeros(len(test),dtype=int)\n",
        "\n",
        "    \n",
        "for j in range(0,len(test)):\n",
        "    \n",
        "    print(\"Test Case\",j+1)\n",
        "\n",
        "    for i in range(0,Number_Features):\n",
        "        Class0_total=len(grouped_data[0])\n",
        "        if test[j][i]==0:\n",
        "            Pta[i]=((np.count_nonzero(grouped_data[0][:,i]==0)+1)/(Class0_total+Number_Classes))\n",
        "        elif test[j][i]==1:\n",
        "            Pta[i]=((np.count_nonzero(grouped_data[0][:,i]==1)+1)/(Class0_total+Number_Classes))\n",
        "        #print(\"P(%d|C1)=\"%(i),Pta[i])\n",
        "\n",
        "\n",
        "    for i in range(0,Number_Features):\n",
        "        Class1_total=len(grouped_data[1])\n",
        "        if test[j][i]==0:\n",
        "            Ptb[i]=((np.count_nonzero(grouped_data[1][:,i]==0)+1)/(Class1_total+Number_Classes))\n",
        "        elif test[j][i]==1:\n",
        "            Ptb[i]=((np.count_nonzero(grouped_data[1][:,i]==1)+1)/(Class1_total+Number_Classes))\n",
        "        #print(\"P(%d|C2)=\"%(i),Ptb[i])\n",
        "\n",
        "    Class0_Conditional=np.prod(Pta)\n",
        "    Class1_Conditional=np.prod(Ptb)\n",
        "\n",
        "    print(\"Class Conditionals P(A|C0)=\",round(Class0_Conditional,7),\",P(A|C1)=\",round(Class1_Conditional,7))\n",
        "\n",
        "    Posteriori_Class0=Class0_Conditional*Prior_Probability_Class0\n",
        "    Posteriori_Class1=Class1_Conditional*Prior_Probability_Class1\n",
        "    \n",
        "    print(\"Posteriori Probability P(A|C0)P(C0)=\",round(Posteriori_Class0,7),\",P(A|C1)P(C1)=\",round(Posteriori_Class1,7))\n",
        "\n",
        "    \n",
        "    if Posteriori_Class0>Posteriori_Class1:\n",
        "        print(\"Class 0\")\n",
        "        Predicted_Classes[j]=0\n",
        "    else:\n",
        "        print(\"Class 1\")\n",
        "        Predicted_Classes[j]=1\n",
        "    \n",
        "    print(\"\\n\")\n",
        "    \n",
        "print(\"Predicted Classes for Test : \", Predicted_Classes)"
      ],
      "execution_count": 0,
      "outputs": [
        {
          "output_type": "stream",
          "text": [
            "P(C0)= 0.35\n",
            "P(C1)= 0.65\n",
            "Test Case 1\n",
            "Class Conditionals P(A|C0)= 0.0045673 ,P(A|C1)= 0.0037002\n",
            "Posteriori Probability P(A|C0)P(C0)= 0.0015986 ,P(A|C1)P(C1)= 0.0024051\n",
            "Class 1\n",
            "\n",
            "\n",
            "Test Case 2\n",
            "Class Conditionals P(A|C0)= 6.97e-05 ,P(A|C1)= 1.45e-05\n",
            "Posteriori Probability P(A|C0)P(C0)= 2.44e-05 ,P(A|C1)P(C1)= 9.4e-06\n",
            "Class 0\n",
            "\n",
            "\n",
            "Test Case 3\n",
            "Class Conditionals P(A|C0)= 1.12e-05 ,P(A|C1)= 0.0264412\n",
            "Posteriori Probability P(A|C0)P(C0)= 3.9e-06 ,P(A|C1)P(C1)= 0.0171868\n",
            "Class 1\n",
            "\n",
            "\n",
            "Test Case 4\n",
            "Class Conditionals P(A|C0)= 8.92e-05 ,P(A|C1)= 0.0396618\n",
            "Posteriori Probability P(A|C0)P(C0)= 3.12e-05 ,P(A|C1)P(C1)= 0.0257801\n",
            "Class 1\n",
            "\n",
            "\n",
            "Predicted Classes for Test :  [1 0 1 1]\n"
          ],
          "name": "stdout"
        }
      ]
    }
  ]
}